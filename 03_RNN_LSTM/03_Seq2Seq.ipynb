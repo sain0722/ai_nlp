{
 "cells": [
  {
   "cell_type": "markdown",
   "metadata": {},
   "source": [
    "# Seq2Seq : Sequence to Sequence 모델\n",
    "  \n",
    "  \n",
    "## : Encoder Decoder 모델이라고도 한다"
   ]
  },
  {
   "cell_type": "markdown",
   "metadata": {},
   "source": [
    "### Encoder 클래스"
   ]
  },
  {
   "cell_type": "code",
   "execution_count": 2,
   "metadata": {},
   "outputs": [],
   "source": [
    "from nn_layers import TimeEmbedding, TimeLSTM, TimeAffine, TimeSoftmaxWithLoss\n"
   ]
  },
  {
   "cell_type": "code",
   "execution_count": 4,
   "metadata": {},
   "outputs": [],
   "source": [
    "class Encoder:\n",
    "    def __init__(self,vocab_size, wordvec_size, hidden_size):\n",
    "        \n",
    "        V,D,H = vocab_size, wordvec_size,hidden_size         # 10000, 100, 100\n",
    "        rn = np.random.randn\n",
    "\n",
    "        # 가중치 초기화\n",
    "        embed_W = (rn(V,D)/100).astype('f')\n",
    "\n",
    "        # Wx, Wh, b가 4*H로 된다. \n",
    "        lstm_Wx = (rn(D,4*H) / np.sqrt(D)).astype('f') \n",
    "        lstm_Wh = (rn(H,4*H) / np.sqrt(H)).astype('f')\n",
    "        lstm_b = np.zeros(4*H).astype('f')\n",
    "        \n",
    "        # 계층 생성\n",
    "        self.embed = TimeEmbedding(embed_W)\n",
    "        \n",
    "        # 이전의 상태를 쓰지 않음.\n",
    "        # Encoder 측에서는 처음 state가 없는 상태로 시작.\n",
    "        # stateful이 false니까 h는 0로 들어옴 (TimeLSTM에서 if문으로 설정)\n",
    "        self.lstm = TimeLSTM(lstm_Wx, lstm_Wh, lstm_b, stateful=False) # stateful False\n",
    "        \n",
    "        # 모든 가중치와 기울기를 모은다.\n",
    "        self.params = self.embed.params + self.lstm.params\n",
    "        self.grads = self.embed.grads + self.lstm.grads\n",
    "        \n",
    "    # x가 들어오면, 출력은 h만 나간다.\n",
    "    def forward(self, xs):\n",
    "        xs = self.embed.forward(xs)\n",
    "        hs = self.lstm.forward(xs)      # (N, T, H)\n",
    "        \n",
    "        self.hs = hs\n",
    "        \n",
    "        # TimeLSTM의 마지막 계층만 반환,.\n",
    "        # TimeLSTM 게층의 마지막 은닉 상태 h를 반환, [N, H], 2차원\n",
    "        return hs[:, -1, :]\n",
    "        "
   ]
  },
  {
   "cell_type": "code",
   "execution_count": null,
   "metadata": {},
   "outputs": [],
   "source": []
  }
 ],
 "metadata": {
  "kernelspec": {
   "display_name": "Python 3",
   "language": "python",
   "name": "python3"
  },
  "language_info": {
   "codemirror_mode": {
    "name": "ipython",
    "version": 3
   },
   "file_extension": ".py",
   "mimetype": "text/x-python",
   "name": "python",
   "nbconvert_exporter": "python",
   "pygments_lexer": "ipython3",
   "version": "3.8.3"
  }
 },
 "nbformat": 4,
 "nbformat_minor": 4
}
